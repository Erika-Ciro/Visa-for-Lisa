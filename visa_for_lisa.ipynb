import pandas as pd
import numpy as np
import matplotlib.pyplot as plt
import seaborn as sns

## DATA COLLECTING

def load_dataset():
    file = ("Visa_For_Lisa_Loan_Modelling.csv")
    df = pd.read_csv(file)
    df.drop('ID', axis = 1, inplace = True)
    return df

load_dataset()

def print_summarize_dataset(df):
    print("Data Types:")
    print(df.dtypes)
    print()
    print("Statistical summary:")
    display(df.describe())
    
df = load_dataset()
print_summarize_dataset(df)

## DATA CLEANING

def clean_dataset(df):
    # Print if there are null values in the dataset
    print(df.isna().any())
    
dataset_cleaned = clean_dataset(df)

## DATA EXPLORATION

def compute_correlations_matrix(df):
    correlations = df.corr(method='pearson')
    return correlations

compute_correlations_matrix(df)

## DATA VISUALIZATION

def print_histograms(df):
    figsize = (20, 15)
    df.hist(figsize = figsize, bins = 20)
    plt.show()

print_histograms(df)

def plot_metrics_by_loan_status(df): 
    # Transform the "Personal Loan" colum
    hue = df['Personal Loan'].replace({1: 'Given', 0: 'not given'})
    sns.set_theme(style='whitegrid')
    
    # 'Income' distribution chart by personal loan status
    plt.figure(figsize=(12, 6))
    sns.histplot(data=df, x='Income', hue=hue, kde=True, multiple='stack', palette='coolwarm', bins=30)
    plt.title('Income Distribution by Personal Loan Status')
    plt.xlabel('Income')
    plt.ylabel('Count')
    plt.show()
    
    # Distribution chart of 'CCAvg' by personal loan status
    plt.figure(figsize=(12, 6))
    sns.histplot(data=df, x='CCAvg', hue=hue, kde=True, multiple='stack', palette='coolwarm', bins=30)
    plt.title('CCAvg Distribution by Personal Loan')
    plt.xlabel('CCAvg')
    plt.ylabel('Count')
    plt.show()
    
plot_metrics_by_loan_status(df)

def plot_mortgage_distribution(df):
    # Transform the "Personal Loan" colum
    hue = df['Personal Loan'].replace({1: 'Given', 0: 'not given'})
    sns.set_theme(style='whitegrid')
    
    # Plot Mortgage Distribution by Personal Loan
    plt.figure(figsize=(12, 6))
    sns.histplot(data=df, x='Mortgage', hue=hue, palette='coolwarm', kde=True, element='step', stat='density', common_norm=False)
    plt.title('Mortgage Distribution by Personal Loan')
    plt.xlabel('Mortgage')
    plt.ylabel('Density')
    plt.show()
    
plot_mortgage_distribution(df)

def plot_education(df):
    # Plot
    sns.countplot(data=df, x='Education', hue='Personal Loan', palette='coolwarm')
    
    # Adjust the tick labels to match the names of the education levels.
    plt.xticks(np.arange(3), ['Undergraduate', 'Graduate', 'Professional'], rotation=45)
    s
    plt.title("Distribution of Educational Level by Personal Loan Acceptance")
    plt.xlabel("Education Level")
    plt.ylabel("Count")

    plt.show()
    
plot_education(df)

def correlations_matrix(df):
    colums = ['Age', 'Education', 'CCAvg', 'Income', 'CD Account', 'Personal Loan', 'Mortgage']
    correlations = df[colums].corr(method='pearson')
    
    # Establish a threshold for significant correlations
    umbral = 0.3
    # Create a mask to hide correlations below the threshold
    mascara = np.abs(correlations) < umbral
    
    # create heatmap using seaborn
    plt.figure(figsize=(10, 8))
    sns.heatmap(correlations, mask=mascara, annot=True, fmt=".2f", cmap='coolwarm', square=True, linewidths=.5)
    
    plt.title("Correlation Matrix")
    plt.show()

correlations_matrix(df)


## MACHINE LEARNING

from sklearn.model_selection import train_test_split
from sklearn.metrics import accuracy_score, confusion_matrix, roc_auc_score
from sklearn.linear_model import LogisticRegression
from sklearn.tree import DecisionTreeClassifier
from sklearn.ensemble import RandomForestClassifier, GradientBoostingClassifier
from sklearn.naive_bayes import GaussianNB
from sklearn.svm import SVC
from sklearn.neighbors import KNeighborsClassifier

class BankLoanModel:
    def __init__(self, df):
        # Initialises the class, prepares the dataset and models for training
        self.df = df
        self.models = {
            'LogisticRegression': LogisticRegression(max_iter=1000),
            'DecisionTree': DecisionTreeClassifier(),
            'RandomForest': RandomForestClassifier(),
            'GradientBoosting': GradientBoostingClassifier(),
            'GaussianNB': GaussianNB(),
            'SVC': SVC(probability=True),
            'KNeighbors': KNeighborsClassifier()
        }
        self.X_train, self.X_test, self.y_train, self.y_test = self.prepare_data()
        self.results = {}

    def prepare_data(self):
        # Divide the data into training and test sets
        X = self.df[['Income', 'CCAvg', 'CD Account', 'Education', 'Mortgage']]
        y = self.df['Personal Loan']
        return train_test_split(X, y, test_size=0.2, random_state=42)

    def train_and_evaluate(self):
        # Train each model with the training data and evaluate its performance on the test set
        for name, model in self.models.items():
            model.fit(self.X_train, self.y_train)
            y_pred = model.predict(self.X_test)
            accuracy = accuracy_score(self.y_test, y_pred)
            conf_matrix = confusion_matrix(self.y_test, y_pred)
            auc = roc_auc_score(self.y_test, model.predict_proba(self.X_test)[:, 1])
            self.results[name] = {'Accuracy': accuracy, 'Confusion Matrix': conf_matrix, 'AUC': auc}

    def get_results(self):
        return self.results

loan_model = BankLoanModel(df)
loan_model.train_and_evaluate()
results = loan_model.get_results()
print(results)

